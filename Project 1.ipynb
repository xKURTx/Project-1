{
 "cells": [
  {
   "cell_type": "code",
   "execution_count": 1,
   "id": "7fdd6618",
   "metadata": {},
   "outputs": [],
   "source": [
    "import numpy as np\n",
    "import pandas as pd\n",
    "import matplotlib.pyplot as plt\n",
    "import seaborn as sns"
   ]
  },
  {
   "cell_type": "code",
   "execution_count": 2,
   "id": "9323c912",
   "metadata": {},
   "outputs": [],
   "source": [
    "#Create the path to csv files. Change the path to the csv files to for your own use\n",
    "path = \"C:/Users/josch/OneDrive/Desktop/Udacity/\"\n",
    "ldf = pd.read_csv(path + 'listings.csv')\n",
    "rdf = pd.read_csv(path + 'reviews.csv')\n",
    "cdf = pd.read_csv(path + 'calendar.csv')"
   ]
  },
  {
   "cell_type": "code",
   "execution_count": 7,
   "id": "868a8c71",
   "metadata": {},
   "outputs": [
    {
     "data": {
      "text/html": [
       "<div>\n",
       "<style scoped>\n",
       "    .dataframe tbody tr th:only-of-type {\n",
       "        vertical-align: middle;\n",
       "    }\n",
       "\n",
       "    .dataframe tbody tr th {\n",
       "        vertical-align: top;\n",
       "    }\n",
       "\n",
       "    .dataframe thead th {\n",
       "        text-align: right;\n",
       "    }\n",
       "</style>\n",
       "<table border=\"1\" class=\"dataframe\">\n",
       "  <thead>\n",
       "    <tr style=\"text-align: right;\">\n",
       "      <th></th>\n",
       "      <th>id</th>\n",
       "      <th>listing_url</th>\n",
       "      <th>scrape_id</th>\n",
       "      <th>last_scraped</th>\n",
       "      <th>name</th>\n",
       "      <th>summary</th>\n",
       "      <th>space</th>\n",
       "      <th>description</th>\n",
       "      <th>experiences_offered</th>\n",
       "      <th>neighborhood_overview</th>\n",
       "      <th>...</th>\n",
       "      <th>review_scores_value</th>\n",
       "      <th>requires_license</th>\n",
       "      <th>license</th>\n",
       "      <th>jurisdiction_names</th>\n",
       "      <th>instant_bookable</th>\n",
       "      <th>cancellation_policy</th>\n",
       "      <th>require_guest_profile_picture</th>\n",
       "      <th>require_guest_phone_verification</th>\n",
       "      <th>calculated_host_listings_count</th>\n",
       "      <th>reviews_per_month</th>\n",
       "    </tr>\n",
       "  </thead>\n",
       "  <tbody>\n",
       "    <tr>\n",
       "      <th>0</th>\n",
       "      <td>241032</td>\n",
       "      <td>https://www.airbnb.com/rooms/241032</td>\n",
       "      <td>20160104002432</td>\n",
       "      <td>2016-01-04</td>\n",
       "      <td>Stylish Queen Anne Apartment</td>\n",
       "      <td>NaN</td>\n",
       "      <td>Make your self at home in this charming one-be...</td>\n",
       "      <td>Make your self at home in this charming one-be...</td>\n",
       "      <td>none</td>\n",
       "      <td>NaN</td>\n",
       "      <td>...</td>\n",
       "      <td>10.0</td>\n",
       "      <td>f</td>\n",
       "      <td>NaN</td>\n",
       "      <td>WASHINGTON</td>\n",
       "      <td>f</td>\n",
       "      <td>moderate</td>\n",
       "      <td>f</td>\n",
       "      <td>f</td>\n",
       "      <td>2</td>\n",
       "      <td>4.07</td>\n",
       "    </tr>\n",
       "    <tr>\n",
       "      <th>1</th>\n",
       "      <td>953595</td>\n",
       "      <td>https://www.airbnb.com/rooms/953595</td>\n",
       "      <td>20160104002432</td>\n",
       "      <td>2016-01-04</td>\n",
       "      <td>Bright &amp; Airy Queen Anne Apartment</td>\n",
       "      <td>Chemically sensitive? We've removed the irrita...</td>\n",
       "      <td>Beautiful, hypoallergenic apartment in an extr...</td>\n",
       "      <td>Chemically sensitive? We've removed the irrita...</td>\n",
       "      <td>none</td>\n",
       "      <td>Queen Anne is a wonderful, truly functional vi...</td>\n",
       "      <td>...</td>\n",
       "      <td>10.0</td>\n",
       "      <td>f</td>\n",
       "      <td>NaN</td>\n",
       "      <td>WASHINGTON</td>\n",
       "      <td>f</td>\n",
       "      <td>strict</td>\n",
       "      <td>t</td>\n",
       "      <td>t</td>\n",
       "      <td>6</td>\n",
       "      <td>1.48</td>\n",
       "    </tr>\n",
       "    <tr>\n",
       "      <th>2</th>\n",
       "      <td>3308979</td>\n",
       "      <td>https://www.airbnb.com/rooms/3308979</td>\n",
       "      <td>20160104002432</td>\n",
       "      <td>2016-01-04</td>\n",
       "      <td>New Modern House-Amazing water view</td>\n",
       "      <td>New modern house built in 2013.  Spectacular s...</td>\n",
       "      <td>Our house is modern, light and fresh with a wa...</td>\n",
       "      <td>New modern house built in 2013.  Spectacular s...</td>\n",
       "      <td>none</td>\n",
       "      <td>Upper Queen Anne is a charming neighborhood fu...</td>\n",
       "      <td>...</td>\n",
       "      <td>10.0</td>\n",
       "      <td>f</td>\n",
       "      <td>NaN</td>\n",
       "      <td>WASHINGTON</td>\n",
       "      <td>f</td>\n",
       "      <td>strict</td>\n",
       "      <td>f</td>\n",
       "      <td>f</td>\n",
       "      <td>2</td>\n",
       "      <td>1.15</td>\n",
       "    </tr>\n",
       "    <tr>\n",
       "      <th>3</th>\n",
       "      <td>7421966</td>\n",
       "      <td>https://www.airbnb.com/rooms/7421966</td>\n",
       "      <td>20160104002432</td>\n",
       "      <td>2016-01-04</td>\n",
       "      <td>Queen Anne Chateau</td>\n",
       "      <td>A charming apartment that sits atop Queen Anne...</td>\n",
       "      <td>NaN</td>\n",
       "      <td>A charming apartment that sits atop Queen Anne...</td>\n",
       "      <td>none</td>\n",
       "      <td>NaN</td>\n",
       "      <td>...</td>\n",
       "      <td>NaN</td>\n",
       "      <td>f</td>\n",
       "      <td>NaN</td>\n",
       "      <td>WASHINGTON</td>\n",
       "      <td>f</td>\n",
       "      <td>flexible</td>\n",
       "      <td>f</td>\n",
       "      <td>f</td>\n",
       "      <td>1</td>\n",
       "      <td>NaN</td>\n",
       "    </tr>\n",
       "    <tr>\n",
       "      <th>4</th>\n",
       "      <td>278830</td>\n",
       "      <td>https://www.airbnb.com/rooms/278830</td>\n",
       "      <td>20160104002432</td>\n",
       "      <td>2016-01-04</td>\n",
       "      <td>Charming craftsman 3 bdm house</td>\n",
       "      <td>Cozy family craftman house in beautiful neighb...</td>\n",
       "      <td>Cozy family craftman house in beautiful neighb...</td>\n",
       "      <td>Cozy family craftman house in beautiful neighb...</td>\n",
       "      <td>none</td>\n",
       "      <td>We are in the beautiful neighborhood of Queen ...</td>\n",
       "      <td>...</td>\n",
       "      <td>9.0</td>\n",
       "      <td>f</td>\n",
       "      <td>NaN</td>\n",
       "      <td>WASHINGTON</td>\n",
       "      <td>f</td>\n",
       "      <td>strict</td>\n",
       "      <td>f</td>\n",
       "      <td>f</td>\n",
       "      <td>1</td>\n",
       "      <td>0.89</td>\n",
       "    </tr>\n",
       "  </tbody>\n",
       "</table>\n",
       "<p>5 rows × 92 columns</p>\n",
       "</div>"
      ],
      "text/plain": [
       "        id                           listing_url       scrape_id last_scraped  \\\n",
       "0   241032   https://www.airbnb.com/rooms/241032  20160104002432   2016-01-04   \n",
       "1   953595   https://www.airbnb.com/rooms/953595  20160104002432   2016-01-04   \n",
       "2  3308979  https://www.airbnb.com/rooms/3308979  20160104002432   2016-01-04   \n",
       "3  7421966  https://www.airbnb.com/rooms/7421966  20160104002432   2016-01-04   \n",
       "4   278830   https://www.airbnb.com/rooms/278830  20160104002432   2016-01-04   \n",
       "\n",
       "                                  name  \\\n",
       "0         Stylish Queen Anne Apartment   \n",
       "1   Bright & Airy Queen Anne Apartment   \n",
       "2  New Modern House-Amazing water view   \n",
       "3                   Queen Anne Chateau   \n",
       "4       Charming craftsman 3 bdm house   \n",
       "\n",
       "                                             summary  \\\n",
       "0                                                NaN   \n",
       "1  Chemically sensitive? We've removed the irrita...   \n",
       "2  New modern house built in 2013.  Spectacular s...   \n",
       "3  A charming apartment that sits atop Queen Anne...   \n",
       "4  Cozy family craftman house in beautiful neighb...   \n",
       "\n",
       "                                               space  \\\n",
       "0  Make your self at home in this charming one-be...   \n",
       "1  Beautiful, hypoallergenic apartment in an extr...   \n",
       "2  Our house is modern, light and fresh with a wa...   \n",
       "3                                                NaN   \n",
       "4  Cozy family craftman house in beautiful neighb...   \n",
       "\n",
       "                                         description experiences_offered  \\\n",
       "0  Make your self at home in this charming one-be...                none   \n",
       "1  Chemically sensitive? We've removed the irrita...                none   \n",
       "2  New modern house built in 2013.  Spectacular s...                none   \n",
       "3  A charming apartment that sits atop Queen Anne...                none   \n",
       "4  Cozy family craftman house in beautiful neighb...                none   \n",
       "\n",
       "                               neighborhood_overview  ... review_scores_value  \\\n",
       "0                                                NaN  ...                10.0   \n",
       "1  Queen Anne is a wonderful, truly functional vi...  ...                10.0   \n",
       "2  Upper Queen Anne is a charming neighborhood fu...  ...                10.0   \n",
       "3                                                NaN  ...                 NaN   \n",
       "4  We are in the beautiful neighborhood of Queen ...  ...                 9.0   \n",
       "\n",
       "  requires_license license jurisdiction_names instant_bookable  \\\n",
       "0                f     NaN         WASHINGTON                f   \n",
       "1                f     NaN         WASHINGTON                f   \n",
       "2                f     NaN         WASHINGTON                f   \n",
       "3                f     NaN         WASHINGTON                f   \n",
       "4                f     NaN         WASHINGTON                f   \n",
       "\n",
       "  cancellation_policy  require_guest_profile_picture  \\\n",
       "0            moderate                              f   \n",
       "1              strict                              t   \n",
       "2              strict                              f   \n",
       "3            flexible                              f   \n",
       "4              strict                              f   \n",
       "\n",
       "  require_guest_phone_verification calculated_host_listings_count  \\\n",
       "0                                f                              2   \n",
       "1                                t                              6   \n",
       "2                                f                              2   \n",
       "3                                f                              1   \n",
       "4                                f                              1   \n",
       "\n",
       "  reviews_per_month  \n",
       "0              4.07  \n",
       "1              1.48  \n",
       "2              1.15  \n",
       "3               NaN  \n",
       "4              0.89  \n",
       "\n",
       "[5 rows x 92 columns]"
      ]
     },
     "execution_count": 7,
     "metadata": {},
     "output_type": "execute_result"
    }
   ],
   "source": [
    "#get a first look at the listings data\n",
    "ldf.head()"
   ]
  },
  {
   "cell_type": "markdown",
   "id": "0549c31e",
   "metadata": {},
   "source": [
    "### The first question will be to determine popular neighborhoods based on the total number of listings in a given neighborhood. Airbnb has provided clean data for the neighborhood listings, thus there are no missing values."
   ]
  },
  {
   "cell_type": "code",
   "execution_count": 3,
   "id": "87d305d7",
   "metadata": {},
   "outputs": [
    {
     "data": {
      "text/plain": [
       "Broadway                     397\n",
       "Belltown                     234\n",
       "Wallingford                  167\n",
       "Fremont                      158\n",
       "Minor                        135\n",
       "University District          122\n",
       "Stevens                      119\n",
       "First Hill                   108\n",
       "Central Business District    103\n",
       "Lower Queen Anne              94\n",
       "Name: neighbourhood_cleansed, dtype: int64"
      ]
     },
     "execution_count": 3,
     "metadata": {},
     "output_type": "execute_result"
    },
    {
     "data": {
      "image/png": "[encoded data removed]",
      "text/plain": [
       "<Figure size 432x288 with 1 Axes>"
      ]
     },
     "metadata": {
      "needs_background": "light"
     },
     "output_type": "display_data"
    }
   ],
   "source": [
    "listings_per_neighborhood = ldf['neighbourhood_cleansed'].value_counts()\n",
    "listings_per_neighborhood[:10].plot(kind=\"bar\", title=\"Top Listings\", xlabel=\"Neighborhood\", ylabel=\"Number of Listings\")\n",
    "\n",
    "listings_per_neighborhood.head(10)"
   ]
  },
  {
   "cell_type": "markdown",
   "id": "ab5a4299",
   "metadata": {},
   "source": [
    "### The second question will be to determine the most popular listing. Popular listings are determined by the number of reviews given for that listing. Rather than show the listing_id, I have determined the listing_name from the given id. This helps understand the property better."
   ]
  },
  {
   "cell_type": "code",
   "execution_count": 8,
   "id": "7ba0b5a0",
   "metadata": {},
   "outputs": [
    {
     "data": {
      "text/plain": [
       "0    7202016\n",
       "1    7202016\n",
       "2    7202016\n",
       "3    7202016\n",
       "4    7202016\n",
       "Name: listing_id, dtype: int64"
      ]
     },
     "execution_count": 8,
     "metadata": {},
     "output_type": "execute_result"
    }
   ],
   "source": [
    "#get a first look at the review data\n",
    "rdf.head()"
   ]
  },
  {
   "cell_type": "code",
   "execution_count": 4,
   "id": "c95721ed",
   "metadata": {},
   "outputs": [
    {
     "data": {
      "text/html": [
       "<div>\n",
       "<style scoped>\n",
       "    .dataframe tbody tr th:only-of-type {\n",
       "        vertical-align: middle;\n",
       "    }\n",
       "\n",
       "    .dataframe tbody tr th {\n",
       "        vertical-align: top;\n",
       "    }\n",
       "\n",
       "    .dataframe thead th {\n",
       "        text-align: right;\n",
       "    }\n",
       "</style>\n",
       "<table border=\"1\" class=\"dataframe\">\n",
       "  <thead>\n",
       "    <tr style=\"text-align: right;\">\n",
       "      <th></th>\n",
       "      <th>listing_id</th>\n",
       "      <th>reviews</th>\n",
       "      <th>listing_name</th>\n",
       "    </tr>\n",
       "  </thead>\n",
       "  <tbody>\n",
       "    <tr>\n",
       "      <th>0</th>\n",
       "      <td>208356</td>\n",
       "      <td>474</td>\n",
       "      <td>contemporary art loft downtown [7]</td>\n",
       "    </tr>\n",
       "    <tr>\n",
       "      <th>1</th>\n",
       "      <td>365550</td>\n",
       "      <td>466</td>\n",
       "      <td>contemporary art loft downtown [17]</td>\n",
       "    </tr>\n",
       "    <tr>\n",
       "      <th>2</th>\n",
       "      <td>25002</td>\n",
       "      <td>404</td>\n",
       "      <td>Beautiful, Quiet, Friendly Ballard</td>\n",
       "    </tr>\n",
       "    <tr>\n",
       "      <th>3</th>\n",
       "      <td>47196</td>\n",
       "      <td>353</td>\n",
       "      <td>Capitol Hill Suite + Free Parking</td>\n",
       "    </tr>\n",
       "    <tr>\n",
       "      <th>4</th>\n",
       "      <td>63308</td>\n",
       "      <td>320</td>\n",
       "      <td>Guest Studio - North Capitol Hill</td>\n",
       "    </tr>\n",
       "    <tr>\n",
       "      <th>5</th>\n",
       "      <td>92835</td>\n",
       "      <td>319</td>\n",
       "      <td>Charming Apt, VERY Central Location</td>\n",
       "    </tr>\n",
       "    <tr>\n",
       "      <th>6</th>\n",
       "      <td>5682</td>\n",
       "      <td>297</td>\n",
       "      <td>Cozy Studio, min. to downtown -WiFi</td>\n",
       "    </tr>\n",
       "    <tr>\n",
       "      <th>7</th>\n",
       "      <td>279063</td>\n",
       "      <td>294</td>\n",
       "      <td>Central Guest Room, Stunning View</td>\n",
       "    </tr>\n",
       "    <tr>\n",
       "      <th>8</th>\n",
       "      <td>53867</td>\n",
       "      <td>287</td>\n",
       "      <td>U District Backyard Cottage &amp; Loft</td>\n",
       "    </tr>\n",
       "    <tr>\n",
       "      <th>9</th>\n",
       "      <td>841049</td>\n",
       "      <td>279</td>\n",
       "      <td>Volunteer Park Room 2</td>\n",
       "    </tr>\n",
       "  </tbody>\n",
       "</table>\n",
       "</div>"
      ],
      "text/plain": [
       "   listing_id  reviews                         listing_name\n",
       "0      208356      474   contemporary art loft downtown [7]\n",
       "1      365550      466  contemporary art loft downtown [17]\n",
       "2       25002      404   Beautiful, Quiet, Friendly Ballard\n",
       "3       47196      353    Capitol Hill Suite + Free Parking\n",
       "4       63308      320    Guest Studio - North Capitol Hill\n",
       "5       92835      319  Charming Apt, VERY Central Location\n",
       "6        5682      297  Cozy Studio, min. to downtown -WiFi\n",
       "7      279063      294    Central Guest Room, Stunning View\n",
       "8       53867      287   U District Backyard Cottage & Loft\n",
       "9      841049      279                Volunteer Park Room 2"
      ]
     },
     "execution_count": 4,
     "metadata": {},
     "output_type": "execute_result"
    },
    {
     "data": {
      "image/png": "[encoded data removed]",
      "text/plain": [
       "<Figure size 432x288 with 1 Axes>"
      ]
     },
     "metadata": {
      "needs_background": "light"
     },
     "output_type": "display_data"
    }
   ],
   "source": [
    "rdf = rdf['listing_id']\n",
    "top_reviewed = rdf.value_counts(ascending=False).reset_index()\n",
    "top_reviewed.rename(columns={'index': 'listing_id', 'listing_id': 'reviews'}, inplace=True)\n",
    "\n",
    "name_column =[] #This array is used to match the listing_id with the listing name.\n",
    "\n",
    "for i in range(len(top_reviewed)):\n",
    "    name_column.append(((ldf['name'].where(ldf['id'] == top_reviewed['listing_id'][i]).dropna())).iloc[0])\n",
    "    \n",
    "top_reviewed = top_reviewed.assign(listing_name=name_column)\n",
    "top_reviewed[:10].plot(x='listing_name', y='reviews', kind=\"bar\", title=\"Top Reviewed\", xlabel=\"Listing Name\", ylabel=\"Number of Reviews\")\n",
    "\n",
    "top_reviewed.head(10)"
   ]
  },
  {
   "cell_type": "markdown",
   "id": "8e834f3a",
   "metadata": {},
   "source": [
    "### The third question will be to determine the most expensive neighborhoods. This can help guests determine the right neighborhood for their price range."
   ]
  },
  {
   "cell_type": "code",
   "execution_count": 5,
   "id": "d63a9e4d",
   "metadata": {},
   "outputs": [
    {
     "name": "stdout",
     "output_type": "stream",
     "text": [
      "No missing price data\n"
     ]
    }
   ],
   "source": [
    "#check to see if there any missing prices as this could skew the results.\n",
    "\n",
    "missing_prices = ldf['price'].isnull().sum()/ldf.shape[0]\n",
    "\n",
    "if missing_prices == 0:\n",
    "    print(\"No missing price data\")\n",
    "else:\n",
    "    print(missing_prices)"
   ]
  },
  {
   "cell_type": "code",
   "execution_count": 6,
   "id": "d20a6831",
   "metadata": {},
   "outputs": [
    {
     "data": {
      "text/plain": [
       "neighbourhood_cleansed\n",
       "Southeast Magnolia     231.705882\n",
       "Portage Bay            227.857143\n",
       "Westlake               194.470588\n",
       "West Queen Anne        187.769231\n",
       "Montlake               182.789474\n",
       "Briarcliff             176.571429\n",
       "Sunset Hill            176.055556\n",
       "Industrial District    173.333333\n",
       "Alki                   171.619048\n",
       "Windermere             169.900000\n",
       "Name: price, dtype: float64"
      ]
     },
     "execution_count": 6,
     "metadata": {},
     "output_type": "execute_result"
    },
    {
     "data": {
      "image/png": "[encoded data removed]",
      "text/plain": [
       "<Figure size 432x288 with 1 Axes>"
      ]
     },
     "metadata": {
      "needs_background": "light"
     },
     "output_type": "display_data"
    }
   ],
   "source": [
    "#Airbnb price data is a string. We need to convert this to a float to perform computations on the price.\n",
    "ldf['price'] = ldf['price'].str.replace(\"[$, ]\", \"\", regex=True).astype(\"float\")\n",
    "\n",
    "#Group the data by neighborhood then find the average price per room according to that grouping.\n",
    "average_neighborhood_price = ldf.groupby(['neighbourhood_cleansed']).mean()['price'].sort_values(ascending=False)\n",
    "average_neighborhood_price[:10].plot(kind=\"bar\", title=\"Most Expensive Neighborhoods\", xlabel=\"Neighborhood\", ylabel=\"Average Price per Room\")\n",
    "\n",
    "average_neighborhood_price.head(10)"
   ]
  }
 ],
 "metadata": {
  "kernelspec": {
   "display_name": "Python 3",
   "language": "python",
   "name": "python3"
  },
  "language_info": {
   "codemirror_mode": {
    "name": "ipython",
    "version": 3
   },
   "file_extension": ".py",
   "mimetype": "text/x-python",
   "name": "python",
   "nbconvert_exporter": "python",
   "pygments_lexer": "ipython3",
   "version": "3.8.8"
  }
 },
 "nbformat": 4,
 "nbformat_minor": 5
}
